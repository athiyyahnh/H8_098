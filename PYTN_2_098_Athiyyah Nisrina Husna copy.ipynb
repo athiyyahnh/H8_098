{
 "cells": [
  {
   "cell_type": "markdown",
   "metadata": {},
   "source": [
    "Tujuan dari projek ini adalah untuk memperdalam pemahaman tentang statistik dengan Python,\n",
    "data didapat dari https://www.kaggle.com/datasets/new-york-city/nyc-property-sales, data sudah didownload dan berada di D:\\CODING\\Python\\Coursera\\Data Structures\\Hacktiv8\\nyc-rolling-sales.\n",
    "\n",
    "Referensi Kolom:\n",
    "* BOROUGH: Manhattan(1), Bronx(2), Brooklyn(3), Queens(4), Staten Island(5)\n",
    "* BLOCK;LOT: Kombinasi angka borough,blok dan lot biasa dijadikan alamat unik untuk bangunan di New York,biasa disebut BBL\n",
    "* BUILDING CLASS AT PRESENT dan BUILDING CLASS AT TIME OF SALE: Tipe bangunan saat dijual, bisa apartemen,rumah,komersil dan lainnya\n",
    "\n",
    "Akan dianalisa:\n",
    "1. Adakah perbedaan harga pada bangunan yang dibangun pada tahun 1900 - 2000 dan setelah tahun 2000?\n",
    "2. Berapa proporsi dan confidence interval dari bangunan yang dibangun setelah tahun 2000?\n",
    "3. Apakah benar lebih banyak bangunan yang dibangun pada tahun lebih dari 2000 daripada bangunan yang dibangun pada tahun 1900 - 2000?\n"
   ]
  },
  {
   "cell_type": "code",
   "execution_count": 1,
   "metadata": {},
   "outputs": [],
   "source": [
    "#import package\n",
    "import numpy as np\n",
    "import pandas as pd\n",
    "\n",
    "import matplotlib.pyplot as plt\n",
    "import matplotlib as mpl\n",
    "mpl.style.use('ggplot')\n",
    "\n",
    "import scipy.stats\n",
    "\n",
    "import seaborn as sns\n",
    "\n",
    "from statsmodels.stats.proportion import proportions_ztest\n",
    "from statsmodels.stats.weightstats import ztest"
   ]
  },
  {
   "cell_type": "code",
   "execution_count": 2,
   "metadata": {},
   "outputs": [
    {
     "data": {
      "text/html": [
       "<div>\n",
       "<style scoped>\n",
       "    .dataframe tbody tr th:only-of-type {\n",
       "        vertical-align: middle;\n",
       "    }\n",
       "\n",
       "    .dataframe tbody tr th {\n",
       "        vertical-align: top;\n",
       "    }\n",
       "\n",
       "    .dataframe thead th {\n",
       "        text-align: right;\n",
       "    }\n",
       "</style>\n",
       "<table border=\"1\" class=\"dataframe\">\n",
       "  <thead>\n",
       "    <tr style=\"text-align: right;\">\n",
       "      <th></th>\n",
       "      <th>Unnamed: 0</th>\n",
       "      <th>BOROUGH</th>\n",
       "      <th>NEIGHBORHOOD</th>\n",
       "      <th>BUILDING CLASS CATEGORY</th>\n",
       "      <th>TAX CLASS AT PRESENT</th>\n",
       "      <th>BLOCK</th>\n",
       "      <th>LOT</th>\n",
       "      <th>EASE-MENT</th>\n",
       "      <th>BUILDING CLASS AT PRESENT</th>\n",
       "      <th>ADDRESS</th>\n",
       "      <th>...</th>\n",
       "      <th>RESIDENTIAL UNITS</th>\n",
       "      <th>COMMERCIAL UNITS</th>\n",
       "      <th>TOTAL UNITS</th>\n",
       "      <th>LAND SQUARE FEET</th>\n",
       "      <th>GROSS SQUARE FEET</th>\n",
       "      <th>YEAR BUILT</th>\n",
       "      <th>TAX CLASS AT TIME OF SALE</th>\n",
       "      <th>BUILDING CLASS AT TIME OF SALE</th>\n",
       "      <th>SALE PRICE</th>\n",
       "      <th>SALE DATE</th>\n",
       "    </tr>\n",
       "  </thead>\n",
       "  <tbody>\n",
       "    <tr>\n",
       "      <th>0</th>\n",
       "      <td>4</td>\n",
       "      <td>1</td>\n",
       "      <td>ALPHABET CITY</td>\n",
       "      <td>07 RENTALS - WALKUP APARTMENTS</td>\n",
       "      <td>2A</td>\n",
       "      <td>392</td>\n",
       "      <td>6</td>\n",
       "      <td></td>\n",
       "      <td>C2</td>\n",
       "      <td>153 AVENUE B</td>\n",
       "      <td>...</td>\n",
       "      <td>5</td>\n",
       "      <td>0</td>\n",
       "      <td>5</td>\n",
       "      <td>1633</td>\n",
       "      <td>6440</td>\n",
       "      <td>1900</td>\n",
       "      <td>2</td>\n",
       "      <td>C2</td>\n",
       "      <td>6625000</td>\n",
       "      <td>2017-07-19 00:00:00</td>\n",
       "    </tr>\n",
       "    <tr>\n",
       "      <th>1</th>\n",
       "      <td>5</td>\n",
       "      <td>1</td>\n",
       "      <td>ALPHABET CITY</td>\n",
       "      <td>07 RENTALS - WALKUP APARTMENTS</td>\n",
       "      <td>2</td>\n",
       "      <td>399</td>\n",
       "      <td>26</td>\n",
       "      <td></td>\n",
       "      <td>C7</td>\n",
       "      <td>234 EAST 4TH   STREET</td>\n",
       "      <td>...</td>\n",
       "      <td>28</td>\n",
       "      <td>3</td>\n",
       "      <td>31</td>\n",
       "      <td>4616</td>\n",
       "      <td>18690</td>\n",
       "      <td>1900</td>\n",
       "      <td>2</td>\n",
       "      <td>C7</td>\n",
       "      <td>-</td>\n",
       "      <td>2016-12-14 00:00:00</td>\n",
       "    </tr>\n",
       "    <tr>\n",
       "      <th>2</th>\n",
       "      <td>6</td>\n",
       "      <td>1</td>\n",
       "      <td>ALPHABET CITY</td>\n",
       "      <td>07 RENTALS - WALKUP APARTMENTS</td>\n",
       "      <td>2</td>\n",
       "      <td>399</td>\n",
       "      <td>39</td>\n",
       "      <td></td>\n",
       "      <td>C7</td>\n",
       "      <td>197 EAST 3RD   STREET</td>\n",
       "      <td>...</td>\n",
       "      <td>16</td>\n",
       "      <td>1</td>\n",
       "      <td>17</td>\n",
       "      <td>2212</td>\n",
       "      <td>7803</td>\n",
       "      <td>1900</td>\n",
       "      <td>2</td>\n",
       "      <td>C7</td>\n",
       "      <td>-</td>\n",
       "      <td>2016-12-09 00:00:00</td>\n",
       "    </tr>\n",
       "    <tr>\n",
       "      <th>3</th>\n",
       "      <td>7</td>\n",
       "      <td>1</td>\n",
       "      <td>ALPHABET CITY</td>\n",
       "      <td>07 RENTALS - WALKUP APARTMENTS</td>\n",
       "      <td>2B</td>\n",
       "      <td>402</td>\n",
       "      <td>21</td>\n",
       "      <td></td>\n",
       "      <td>C4</td>\n",
       "      <td>154 EAST 7TH STREET</td>\n",
       "      <td>...</td>\n",
       "      <td>10</td>\n",
       "      <td>0</td>\n",
       "      <td>10</td>\n",
       "      <td>2272</td>\n",
       "      <td>6794</td>\n",
       "      <td>1913</td>\n",
       "      <td>2</td>\n",
       "      <td>C4</td>\n",
       "      <td>3936272</td>\n",
       "      <td>2016-09-23 00:00:00</td>\n",
       "    </tr>\n",
       "    <tr>\n",
       "      <th>4</th>\n",
       "      <td>8</td>\n",
       "      <td>1</td>\n",
       "      <td>ALPHABET CITY</td>\n",
       "      <td>07 RENTALS - WALKUP APARTMENTS</td>\n",
       "      <td>2A</td>\n",
       "      <td>404</td>\n",
       "      <td>55</td>\n",
       "      <td></td>\n",
       "      <td>C2</td>\n",
       "      <td>301 EAST 10TH   STREET</td>\n",
       "      <td>...</td>\n",
       "      <td>6</td>\n",
       "      <td>0</td>\n",
       "      <td>6</td>\n",
       "      <td>2369</td>\n",
       "      <td>4615</td>\n",
       "      <td>1900</td>\n",
       "      <td>2</td>\n",
       "      <td>C2</td>\n",
       "      <td>8000000</td>\n",
       "      <td>2016-11-17 00:00:00</td>\n",
       "    </tr>\n",
       "    <tr>\n",
       "      <th>5</th>\n",
       "      <td>9</td>\n",
       "      <td>1</td>\n",
       "      <td>ALPHABET CITY</td>\n",
       "      <td>07 RENTALS - WALKUP APARTMENTS</td>\n",
       "      <td>2</td>\n",
       "      <td>405</td>\n",
       "      <td>16</td>\n",
       "      <td></td>\n",
       "      <td>C4</td>\n",
       "      <td>516 EAST 12TH   STREET</td>\n",
       "      <td>...</td>\n",
       "      <td>20</td>\n",
       "      <td>0</td>\n",
       "      <td>20</td>\n",
       "      <td>2581</td>\n",
       "      <td>9730</td>\n",
       "      <td>1900</td>\n",
       "      <td>2</td>\n",
       "      <td>C4</td>\n",
       "      <td>-</td>\n",
       "      <td>2017-07-20 00:00:00</td>\n",
       "    </tr>\n",
       "    <tr>\n",
       "      <th>6</th>\n",
       "      <td>10</td>\n",
       "      <td>1</td>\n",
       "      <td>ALPHABET CITY</td>\n",
       "      <td>07 RENTALS - WALKUP APARTMENTS</td>\n",
       "      <td>2B</td>\n",
       "      <td>406</td>\n",
       "      <td>32</td>\n",
       "      <td></td>\n",
       "      <td>C4</td>\n",
       "      <td>210 AVENUE B</td>\n",
       "      <td>...</td>\n",
       "      <td>8</td>\n",
       "      <td>0</td>\n",
       "      <td>8</td>\n",
       "      <td>1750</td>\n",
       "      <td>4226</td>\n",
       "      <td>1920</td>\n",
       "      <td>2</td>\n",
       "      <td>C4</td>\n",
       "      <td>3192840</td>\n",
       "      <td>2016-09-23 00:00:00</td>\n",
       "    </tr>\n",
       "    <tr>\n",
       "      <th>7</th>\n",
       "      <td>11</td>\n",
       "      <td>1</td>\n",
       "      <td>ALPHABET CITY</td>\n",
       "      <td>07 RENTALS - WALKUP APARTMENTS</td>\n",
       "      <td>2</td>\n",
       "      <td>407</td>\n",
       "      <td>18</td>\n",
       "      <td></td>\n",
       "      <td>C7</td>\n",
       "      <td>520 EAST 14TH   STREET</td>\n",
       "      <td>...</td>\n",
       "      <td>44</td>\n",
       "      <td>2</td>\n",
       "      <td>46</td>\n",
       "      <td>5163</td>\n",
       "      <td>21007</td>\n",
       "      <td>1900</td>\n",
       "      <td>2</td>\n",
       "      <td>C7</td>\n",
       "      <td>-</td>\n",
       "      <td>2017-07-20 00:00:00</td>\n",
       "    </tr>\n",
       "    <tr>\n",
       "      <th>8</th>\n",
       "      <td>12</td>\n",
       "      <td>1</td>\n",
       "      <td>ALPHABET CITY</td>\n",
       "      <td>08 RENTALS - ELEVATOR APARTMENTS</td>\n",
       "      <td>2</td>\n",
       "      <td>379</td>\n",
       "      <td>34</td>\n",
       "      <td></td>\n",
       "      <td>D5</td>\n",
       "      <td>141 AVENUE D</td>\n",
       "      <td>...</td>\n",
       "      <td>15</td>\n",
       "      <td>0</td>\n",
       "      <td>15</td>\n",
       "      <td>1534</td>\n",
       "      <td>9198</td>\n",
       "      <td>1920</td>\n",
       "      <td>2</td>\n",
       "      <td>D5</td>\n",
       "      <td>-</td>\n",
       "      <td>2017-06-20 00:00:00</td>\n",
       "    </tr>\n",
       "    <tr>\n",
       "      <th>9</th>\n",
       "      <td>13</td>\n",
       "      <td>1</td>\n",
       "      <td>ALPHABET CITY</td>\n",
       "      <td>08 RENTALS - ELEVATOR APARTMENTS</td>\n",
       "      <td>2</td>\n",
       "      <td>387</td>\n",
       "      <td>153</td>\n",
       "      <td></td>\n",
       "      <td>D9</td>\n",
       "      <td>629 EAST 5TH STREET</td>\n",
       "      <td>...</td>\n",
       "      <td>24</td>\n",
       "      <td>0</td>\n",
       "      <td>24</td>\n",
       "      <td>4489</td>\n",
       "      <td>18523</td>\n",
       "      <td>1920</td>\n",
       "      <td>2</td>\n",
       "      <td>D9</td>\n",
       "      <td>16232000</td>\n",
       "      <td>2016-11-07 00:00:00</td>\n",
       "    </tr>\n",
       "  </tbody>\n",
       "</table>\n",
       "<p>10 rows × 22 columns</p>\n",
       "</div>"
      ],
      "text/plain": [
       "   Unnamed: 0  BOROUGH   NEIGHBORHOOD  \\\n",
       "0           4        1  ALPHABET CITY   \n",
       "1           5        1  ALPHABET CITY   \n",
       "2           6        1  ALPHABET CITY   \n",
       "3           7        1  ALPHABET CITY   \n",
       "4           8        1  ALPHABET CITY   \n",
       "5           9        1  ALPHABET CITY   \n",
       "6          10        1  ALPHABET CITY   \n",
       "7          11        1  ALPHABET CITY   \n",
       "8          12        1  ALPHABET CITY   \n",
       "9          13        1  ALPHABET CITY   \n",
       "\n",
       "                       BUILDING CLASS CATEGORY TAX CLASS AT PRESENT  BLOCK  \\\n",
       "0  07 RENTALS - WALKUP APARTMENTS                                2A    392   \n",
       "1  07 RENTALS - WALKUP APARTMENTS                                 2    399   \n",
       "2  07 RENTALS - WALKUP APARTMENTS                                 2    399   \n",
       "3  07 RENTALS - WALKUP APARTMENTS                                2B    402   \n",
       "4  07 RENTALS - WALKUP APARTMENTS                                2A    404   \n",
       "5  07 RENTALS - WALKUP APARTMENTS                                 2    405   \n",
       "6  07 RENTALS - WALKUP APARTMENTS                                2B    406   \n",
       "7  07 RENTALS - WALKUP APARTMENTS                                 2    407   \n",
       "8  08 RENTALS - ELEVATOR APARTMENTS                               2    379   \n",
       "9  08 RENTALS - ELEVATOR APARTMENTS                               2    387   \n",
       "\n",
       "   LOT EASE-MENT BUILDING CLASS AT PRESENT                 ADDRESS  ...  \\\n",
       "0    6                                  C2            153 AVENUE B  ...   \n",
       "1   26                                  C7   234 EAST 4TH   STREET  ...   \n",
       "2   39                                  C7   197 EAST 3RD   STREET  ...   \n",
       "3   21                                  C4     154 EAST 7TH STREET  ...   \n",
       "4   55                                  C2  301 EAST 10TH   STREET  ...   \n",
       "5   16                                  C4  516 EAST 12TH   STREET  ...   \n",
       "6   32                                  C4            210 AVENUE B  ...   \n",
       "7   18                                  C7  520 EAST 14TH   STREET  ...   \n",
       "8   34                                  D5            141 AVENUE D  ...   \n",
       "9  153                                  D9     629 EAST 5TH STREET  ...   \n",
       "\n",
       "  RESIDENTIAL UNITS  COMMERCIAL UNITS  TOTAL UNITS  LAND SQUARE FEET  \\\n",
       "0                 5                 0            5              1633   \n",
       "1                28                 3           31              4616   \n",
       "2                16                 1           17              2212   \n",
       "3                10                 0           10              2272   \n",
       "4                 6                 0            6              2369   \n",
       "5                20                 0           20              2581   \n",
       "6                 8                 0            8              1750   \n",
       "7                44                 2           46              5163   \n",
       "8                15                 0           15              1534   \n",
       "9                24                 0           24              4489   \n",
       "\n",
       "   GROSS SQUARE FEET YEAR BUILT TAX CLASS AT TIME OF SALE  \\\n",
       "0               6440       1900                         2   \n",
       "1              18690       1900                         2   \n",
       "2               7803       1900                         2   \n",
       "3               6794       1913                         2   \n",
       "4               4615       1900                         2   \n",
       "5               9730       1900                         2   \n",
       "6               4226       1920                         2   \n",
       "7              21007       1900                         2   \n",
       "8               9198       1920                         2   \n",
       "9              18523       1920                         2   \n",
       "\n",
       "   BUILDING CLASS AT TIME OF SALE  SALE PRICE            SALE DATE  \n",
       "0                              C2     6625000  2017-07-19 00:00:00  \n",
       "1                              C7         -    2016-12-14 00:00:00  \n",
       "2                              C7         -    2016-12-09 00:00:00  \n",
       "3                              C4     3936272  2016-09-23 00:00:00  \n",
       "4                              C2     8000000  2016-11-17 00:00:00  \n",
       "5                              C4         -    2017-07-20 00:00:00  \n",
       "6                              C4     3192840  2016-09-23 00:00:00  \n",
       "7                              C7         -    2017-07-20 00:00:00  \n",
       "8                              D5         -    2017-06-20 00:00:00  \n",
       "9                              D9    16232000  2016-11-07 00:00:00  \n",
       "\n",
       "[10 rows x 22 columns]"
      ]
     },
     "execution_count": 2,
     "metadata": {},
     "output_type": "execute_result"
    }
   ],
   "source": [
    "#import data\n",
    "pd_sales = pd.read_csv(\"nyc-rolling-sales.csv\")\n",
    "pd_sales.head(10)\n",
    "                       "
   ]
  },
  {
   "cell_type": "code",
   "execution_count": 3,
   "metadata": {},
   "outputs": [
    {
     "name": "stdout",
     "output_type": "stream",
     "text": [
      "<class 'pandas.core.frame.DataFrame'>\n",
      "RangeIndex: 84548 entries, 0 to 84547\n",
      "Data columns (total 22 columns):\n",
      " #   Column                          Non-Null Count  Dtype \n",
      "---  ------                          --------------  ----- \n",
      " 0   Unnamed: 0                      84548 non-null  int64 \n",
      " 1   BOROUGH                         84548 non-null  int64 \n",
      " 2   NEIGHBORHOOD                    84548 non-null  object\n",
      " 3   BUILDING CLASS CATEGORY         84548 non-null  object\n",
      " 4   TAX CLASS AT PRESENT            84548 non-null  object\n",
      " 5   BLOCK                           84548 non-null  int64 \n",
      " 6   LOT                             84548 non-null  int64 \n",
      " 7   EASE-MENT                       84548 non-null  object\n",
      " 8   BUILDING CLASS AT PRESENT       84548 non-null  object\n",
      " 9   ADDRESS                         84548 non-null  object\n",
      " 10  APARTMENT NUMBER                84548 non-null  object\n",
      " 11  ZIP CODE                        84548 non-null  int64 \n",
      " 12  RESIDENTIAL UNITS               84548 non-null  int64 \n",
      " 13  COMMERCIAL UNITS                84548 non-null  int64 \n",
      " 14  TOTAL UNITS                     84548 non-null  int64 \n",
      " 15  LAND SQUARE FEET                84548 non-null  object\n",
      " 16  GROSS SQUARE FEET               84548 non-null  object\n",
      " 17  YEAR BUILT                      84548 non-null  int64 \n",
      " 18  TAX CLASS AT TIME OF SALE       84548 non-null  int64 \n",
      " 19  BUILDING CLASS AT TIME OF SALE  84548 non-null  object\n",
      " 20  SALE PRICE                      84548 non-null  object\n",
      " 21  SALE DATE                       84548 non-null  object\n",
      "dtypes: int64(10), object(12)\n",
      "memory usage: 14.2+ MB\n"
     ]
    }
   ],
   "source": [
    "pd_sales.info()"
   ]
  },
  {
   "cell_type": "code",
   "execution_count": 4,
   "metadata": {},
   "outputs": [
    {
     "data": {
      "text/plain": [
       "array(['6625000', ' -  ', '3936272', ..., '408092', '11693337', '69300'],\n",
       "      dtype=object)"
      ]
     },
     "execution_count": 4,
     "metadata": {},
     "output_type": "execute_result"
    }
   ],
   "source": [
    "pd_sales['SALE PRICE'].unique()"
   ]
  },
  {
   "cell_type": "markdown",
   "metadata": {},
   "source": [
    "karena ada selain angka, rubah menjadi 0"
   ]
  },
  {
   "cell_type": "code",
   "execution_count": 5,
   "metadata": {},
   "outputs": [],
   "source": [
    "pd_sales['SALE PRICE'].replace(' -  ','0',inplace=True)"
   ]
  },
  {
   "cell_type": "code",
   "execution_count": 6,
   "metadata": {},
   "outputs": [
    {
     "data": {
      "text/plain": [
       "array(['6625000', '0', '3936272', ..., '408092', '11693337', '69300'],\n",
       "      dtype=object)"
      ]
     },
     "execution_count": 6,
     "metadata": {},
     "output_type": "execute_result"
    }
   ],
   "source": [
    "pd_sales['SALE PRICE'].unique()"
   ]
  },
  {
   "cell_type": "code",
   "execution_count": 7,
   "metadata": {},
   "outputs": [
    {
     "name": "stdout",
     "output_type": "stream",
     "text": [
      "<class 'pandas.core.frame.DataFrame'>\n",
      "RangeIndex: 84548 entries, 0 to 84547\n",
      "Data columns (total 22 columns):\n",
      " #   Column                          Non-Null Count  Dtype \n",
      "---  ------                          --------------  ----- \n",
      " 0   Unnamed: 0                      84548 non-null  int64 \n",
      " 1   BOROUGH                         84548 non-null  int64 \n",
      " 2   NEIGHBORHOOD                    84548 non-null  object\n",
      " 3   BUILDING CLASS CATEGORY         84548 non-null  object\n",
      " 4   TAX CLASS AT PRESENT            84548 non-null  object\n",
      " 5   BLOCK                           84548 non-null  int64 \n",
      " 6   LOT                             84548 non-null  int64 \n",
      " 7   EASE-MENT                       84548 non-null  object\n",
      " 8   BUILDING CLASS AT PRESENT       84548 non-null  object\n",
      " 9   ADDRESS                         84548 non-null  object\n",
      " 10  APARTMENT NUMBER                84548 non-null  object\n",
      " 11  ZIP CODE                        84548 non-null  int64 \n",
      " 12  RESIDENTIAL UNITS               84548 non-null  int64 \n",
      " 13  COMMERCIAL UNITS                84548 non-null  int64 \n",
      " 14  TOTAL UNITS                     84548 non-null  int64 \n",
      " 15  LAND SQUARE FEET                84548 non-null  object\n",
      " 16  GROSS SQUARE FEET               84548 non-null  object\n",
      " 17  YEAR BUILT                      84548 non-null  int64 \n",
      " 18  TAX CLASS AT TIME OF SALE       84548 non-null  int64 \n",
      " 19  BUILDING CLASS AT TIME OF SALE  84548 non-null  object\n",
      " 20  SALE PRICE                      84548 non-null  int64 \n",
      " 21  SALE DATE                       84548 non-null  object\n",
      "dtypes: int64(11), object(11)\n",
      "memory usage: 14.2+ MB\n"
     ]
    }
   ],
   "source": [
    "#rubah dari type object menjadi integer\n",
    "pd_sales = pd_sales.astype({'SALE PRICE':'int64'})\n",
    "pd_sales.info()"
   ]
  },
  {
   "cell_type": "code",
   "execution_count": 8,
   "metadata": {},
   "outputs": [
    {
     "data": {
      "text/plain": [
       "array(['07 RENTALS - WALKUP APARTMENTS             ',\n",
       "       '08 RENTALS - ELEVATOR APARTMENTS           ',\n",
       "       '09 COOPS - WALKUP APARTMENTS               ',\n",
       "       '10 COOPS - ELEVATOR APARTMENTS             ',\n",
       "       '11A CONDO-RENTALS                           ',\n",
       "       '12 CONDOS - WALKUP APARTMENTS              ',\n",
       "       '13 CONDOS - ELEVATOR APARTMENTS            ',\n",
       "       '14 RENTALS - 4-10 UNIT                     ',\n",
       "       '15 CONDOS - 2-10 UNIT RESIDENTIAL          ',\n",
       "       '16 CONDOS - 2-10 UNIT WITH COMMERCIAL UNIT ',\n",
       "       '17 CONDO COOPS                             ',\n",
       "       '22 STORE BUILDINGS                         ',\n",
       "       '37 RELIGIOUS FACILITIES                    ',\n",
       "       '42 CONDO CULTURAL/MEDICAL/EDUCATIONAL/ETC  ',\n",
       "       '46 CONDO STORE BUILDINGS                   ',\n",
       "       '47 CONDO NON-BUSINESS STORAGE              ',\n",
       "       '01 ONE FAMILY DWELLINGS                    ',\n",
       "       '02 TWO FAMILY DWELLINGS                    ',\n",
       "       '03 THREE FAMILY DWELLINGS                  ',\n",
       "       '04 TAX CLASS 1 CONDOS                      ',\n",
       "       '21 OFFICE BUILDINGS                        ',\n",
       "       '23 LOFT BUILDINGS                          ',\n",
       "       '25 LUXURY HOTELS                           ',\n",
       "       '26 OTHER HOTELS                            ',\n",
       "       '28 COMMERCIAL CONDOS                       ',\n",
       "       '29 COMMERCIAL GARAGES                      ',\n",
       "       '35 INDOOR PUBLIC AND CULTURAL FACILITIES   ',\n",
       "       '38 ASYLUMS AND HOMES                       ',\n",
       "       '43 CONDO OFFICE BUILDINGS                  ',\n",
       "       '44 CONDO PARKING                           ',\n",
       "       '48 CONDO TERRACES/GARDENS/CABANAS          ',\n",
       "       '31 COMMERCIAL VACANT LAND                  ',\n",
       "       '32 HOSPITAL AND HEALTH FACILITIES          ',\n",
       "       '41 TAX CLASS 4 - OTHER                     ',\n",
       "       '18 TAX CLASS 3 - UNTILITY PROPERTIES       ',\n",
       "       '30 WAREHOUSES                              ',\n",
       "       '36 OUTDOOR RECREATIONAL FACILITIES         ',\n",
       "       '49 CONDO WAREHOUSES/FACTORY/INDUS          ',\n",
       "       '34 THEATRES                                ',\n",
       "       '27 FACTORIES                               ',\n",
       "       '40 SELECTED GOVERNMENTAL FACILITIES        ',\n",
       "       '45 CONDO HOTELS                            ',\n",
       "       '33 EDUCATIONAL FACILITIES                  ',\n",
       "       '11 SPECIAL CONDO BILLING LOTS              ',\n",
       "       '05 TAX CLASS 1 VACANT LAND                 ',\n",
       "       '06 TAX CLASS 1 - OTHER                     ',\n",
       "       '39 TRANSPORTATION FACILITIES               '], dtype=object)"
      ]
     },
     "execution_count": 8,
     "metadata": {},
     "output_type": "execute_result"
    }
   ],
   "source": [
    "pd_sales['BUILDING CLASS CATEGORY'].unique()"
   ]
  },
  {
   "cell_type": "code",
   "execution_count": 9,
   "metadata": {},
   "outputs": [
    {
     "data": {
      "text/plain": [
       "array([1900, 1913, 1920, 1910, 2009, 1925, 1902, 1928, 1930, 1935, 1937,\n",
       "       1915, 1950, 1929, 1901, 1940, 2005,    0, 1989, 2014, 2008, 1965,\n",
       "       2013, 2003, 2006, 2007, 1951, 1899, 1850, 1905, 1864, 1917, 1911,\n",
       "       1983, 1926, 1963, 1960, 1889, 1898, 1939, 1938, 1927, 1909, 1958,\n",
       "       1904, 1907, 1987, 1931, 1984, 1948, 2004, 1918, 1875, 2012, 1973,\n",
       "       2011, 1922, 2001, 1932, 1980, 1908, 1953, 1906, 2015, 1946, 1921,\n",
       "       2010, 1954, 1111, 1924, 1990, 1890, 1991, 1988, 1895, 2016, 1957,\n",
       "       1986, 1966, 1998, 1870, 1923, 1969, 2017, 1968, 1934, 1956, 1982,\n",
       "       1914, 1903, 1967, 1840, 1912, 1964, 1955, 1961, 1851, 2000, 1959,\n",
       "       1962, 1945, 1972, 1976, 1916, 1880, 1970, 1846, 1941, 1952, 1896,\n",
       "       1985, 1981, 1888, 1947, 1975, 1974, 2002, 1994, 1892, 1894, 1891,\n",
       "       1996, 1997, 1949, 1999, 1800, 1979, 1971, 1977, 1942, 1978, 1826,\n",
       "       1881, 1919, 1883, 1936, 1993, 1995, 1933, 1992, 1943, 1944, 1847,\n",
       "       1829, 1844, 1835, 1852, 1856, 1854, 1832, 1845, 1849, 1855, 1871,\n",
       "       1893, 1865, 1882, 1680], dtype=int64)"
      ]
     },
     "execution_count": 9,
     "metadata": {},
     "output_type": "execute_result"
    }
   ],
   "source": [
    "pd_sales['YEAR BUILT'].unique()"
   ]
  },
  {
   "cell_type": "markdown",
   "metadata": {},
   "source": [
    "### Adakah perbedaan harga pada bangunan yang dibangun pada tahun 1900 - 2000 dan setelah tahun 2000?\n"
   ]
  },
  {
   "cell_type": "code",
   "execution_count": 10,
   "metadata": {},
   "outputs": [
    {
     "data": {
      "text/plain": [
       "0         True\n",
       "1         True\n",
       "2         True\n",
       "3         True\n",
       "4         True\n",
       "         ...  \n",
       "84543     True\n",
       "84544     True\n",
       "84545     True\n",
       "84546    False\n",
       "84547    False\n",
       "Name: YEAR BUILT, Length: 84548, dtype: bool"
      ]
     },
     "execution_count": 10,
     "metadata": {},
     "output_type": "execute_result"
    }
   ],
   "source": [
    "#yang dibutuhkan adalah harga bangunan pada tahun sebelum 2000 dan setelah 2000,  ambil harga tahun itu saja\n",
    "#ambil tahun 1900 - 2000\n",
    "kon_year1 = (pd_sales['YEAR BUILT'] <= 2000 )\n",
    "kon_year1"
   ]
  },
  {
   "cell_type": "code",
   "execution_count": 11,
   "metadata": {},
   "outputs": [
    {
     "data": {
      "text/plain": [
       "0        True\n",
       "1        True\n",
       "2        True\n",
       "3        True\n",
       "4        True\n",
       "         ... \n",
       "84543    True\n",
       "84544    True\n",
       "84545    True\n",
       "84546    True\n",
       "84547    True\n",
       "Name: YEAR BUILT, Length: 84548, dtype: bool"
      ]
     },
     "execution_count": 11,
     "metadata": {},
     "output_type": "execute_result"
    }
   ],
   "source": [
    "kon_year2 = (pd_sales['YEAR BUILT'] >= 1900)\n",
    "kon_year2"
   ]
  },
  {
   "cell_type": "code",
   "execution_count": 12,
   "metadata": {},
   "outputs": [
    {
     "data": {
      "text/html": [
       "<div>\n",
       "<style scoped>\n",
       "    .dataframe tbody tr th:only-of-type {\n",
       "        vertical-align: middle;\n",
       "    }\n",
       "\n",
       "    .dataframe tbody tr th {\n",
       "        vertical-align: top;\n",
       "    }\n",
       "\n",
       "    .dataframe thead th {\n",
       "        text-align: right;\n",
       "    }\n",
       "</style>\n",
       "<table border=\"1\" class=\"dataframe\">\n",
       "  <thead>\n",
       "    <tr style=\"text-align: right;\">\n",
       "      <th></th>\n",
       "      <th>Unnamed: 0</th>\n",
       "      <th>BOROUGH</th>\n",
       "      <th>NEIGHBORHOOD</th>\n",
       "      <th>BUILDING CLASS CATEGORY</th>\n",
       "      <th>TAX CLASS AT PRESENT</th>\n",
       "      <th>BLOCK</th>\n",
       "      <th>LOT</th>\n",
       "      <th>EASE-MENT</th>\n",
       "      <th>BUILDING CLASS AT PRESENT</th>\n",
       "      <th>ADDRESS</th>\n",
       "      <th>...</th>\n",
       "      <th>RESIDENTIAL UNITS</th>\n",
       "      <th>COMMERCIAL UNITS</th>\n",
       "      <th>TOTAL UNITS</th>\n",
       "      <th>LAND SQUARE FEET</th>\n",
       "      <th>GROSS SQUARE FEET</th>\n",
       "      <th>YEAR BUILT</th>\n",
       "      <th>TAX CLASS AT TIME OF SALE</th>\n",
       "      <th>BUILDING CLASS AT TIME OF SALE</th>\n",
       "      <th>SALE PRICE</th>\n",
       "      <th>SALE DATE</th>\n",
       "    </tr>\n",
       "  </thead>\n",
       "  <tbody>\n",
       "    <tr>\n",
       "      <th>0</th>\n",
       "      <td>4</td>\n",
       "      <td>1</td>\n",
       "      <td>ALPHABET CITY</td>\n",
       "      <td>07 RENTALS - WALKUP APARTMENTS</td>\n",
       "      <td>2A</td>\n",
       "      <td>392</td>\n",
       "      <td>6</td>\n",
       "      <td></td>\n",
       "      <td>C2</td>\n",
       "      <td>153 AVENUE B</td>\n",
       "      <td>...</td>\n",
       "      <td>5</td>\n",
       "      <td>0</td>\n",
       "      <td>5</td>\n",
       "      <td>1633</td>\n",
       "      <td>6440</td>\n",
       "      <td>1900</td>\n",
       "      <td>2</td>\n",
       "      <td>C2</td>\n",
       "      <td>6625000</td>\n",
       "      <td>2017-07-19 00:00:00</td>\n",
       "    </tr>\n",
       "    <tr>\n",
       "      <th>1</th>\n",
       "      <td>5</td>\n",
       "      <td>1</td>\n",
       "      <td>ALPHABET CITY</td>\n",
       "      <td>07 RENTALS - WALKUP APARTMENTS</td>\n",
       "      <td>2</td>\n",
       "      <td>399</td>\n",
       "      <td>26</td>\n",
       "      <td></td>\n",
       "      <td>C7</td>\n",
       "      <td>234 EAST 4TH   STREET</td>\n",
       "      <td>...</td>\n",
       "      <td>28</td>\n",
       "      <td>3</td>\n",
       "      <td>31</td>\n",
       "      <td>4616</td>\n",
       "      <td>18690</td>\n",
       "      <td>1900</td>\n",
       "      <td>2</td>\n",
       "      <td>C7</td>\n",
       "      <td>0</td>\n",
       "      <td>2016-12-14 00:00:00</td>\n",
       "    </tr>\n",
       "    <tr>\n",
       "      <th>2</th>\n",
       "      <td>6</td>\n",
       "      <td>1</td>\n",
       "      <td>ALPHABET CITY</td>\n",
       "      <td>07 RENTALS - WALKUP APARTMENTS</td>\n",
       "      <td>2</td>\n",
       "      <td>399</td>\n",
       "      <td>39</td>\n",
       "      <td></td>\n",
       "      <td>C7</td>\n",
       "      <td>197 EAST 3RD   STREET</td>\n",
       "      <td>...</td>\n",
       "      <td>16</td>\n",
       "      <td>1</td>\n",
       "      <td>17</td>\n",
       "      <td>2212</td>\n",
       "      <td>7803</td>\n",
       "      <td>1900</td>\n",
       "      <td>2</td>\n",
       "      <td>C7</td>\n",
       "      <td>0</td>\n",
       "      <td>2016-12-09 00:00:00</td>\n",
       "    </tr>\n",
       "    <tr>\n",
       "      <th>3</th>\n",
       "      <td>7</td>\n",
       "      <td>1</td>\n",
       "      <td>ALPHABET CITY</td>\n",
       "      <td>07 RENTALS - WALKUP APARTMENTS</td>\n",
       "      <td>2B</td>\n",
       "      <td>402</td>\n",
       "      <td>21</td>\n",
       "      <td></td>\n",
       "      <td>C4</td>\n",
       "      <td>154 EAST 7TH STREET</td>\n",
       "      <td>...</td>\n",
       "      <td>10</td>\n",
       "      <td>0</td>\n",
       "      <td>10</td>\n",
       "      <td>2272</td>\n",
       "      <td>6794</td>\n",
       "      <td>1913</td>\n",
       "      <td>2</td>\n",
       "      <td>C4</td>\n",
       "      <td>3936272</td>\n",
       "      <td>2016-09-23 00:00:00</td>\n",
       "    </tr>\n",
       "    <tr>\n",
       "      <th>4</th>\n",
       "      <td>8</td>\n",
       "      <td>1</td>\n",
       "      <td>ALPHABET CITY</td>\n",
       "      <td>07 RENTALS - WALKUP APARTMENTS</td>\n",
       "      <td>2A</td>\n",
       "      <td>404</td>\n",
       "      <td>55</td>\n",
       "      <td></td>\n",
       "      <td>C2</td>\n",
       "      <td>301 EAST 10TH   STREET</td>\n",
       "      <td>...</td>\n",
       "      <td>6</td>\n",
       "      <td>0</td>\n",
       "      <td>6</td>\n",
       "      <td>2369</td>\n",
       "      <td>4615</td>\n",
       "      <td>1900</td>\n",
       "      <td>2</td>\n",
       "      <td>C2</td>\n",
       "      <td>8000000</td>\n",
       "      <td>2016-11-17 00:00:00</td>\n",
       "    </tr>\n",
       "  </tbody>\n",
       "</table>\n",
       "<p>5 rows × 22 columns</p>\n",
       "</div>"
      ],
      "text/plain": [
       "   Unnamed: 0  BOROUGH   NEIGHBORHOOD  \\\n",
       "0           4        1  ALPHABET CITY   \n",
       "1           5        1  ALPHABET CITY   \n",
       "2           6        1  ALPHABET CITY   \n",
       "3           7        1  ALPHABET CITY   \n",
       "4           8        1  ALPHABET CITY   \n",
       "\n",
       "                       BUILDING CLASS CATEGORY TAX CLASS AT PRESENT  BLOCK  \\\n",
       "0  07 RENTALS - WALKUP APARTMENTS                                2A    392   \n",
       "1  07 RENTALS - WALKUP APARTMENTS                                 2    399   \n",
       "2  07 RENTALS - WALKUP APARTMENTS                                 2    399   \n",
       "3  07 RENTALS - WALKUP APARTMENTS                                2B    402   \n",
       "4  07 RENTALS - WALKUP APARTMENTS                                2A    404   \n",
       "\n",
       "   LOT EASE-MENT BUILDING CLASS AT PRESENT                 ADDRESS  ...  \\\n",
       "0    6                                  C2            153 AVENUE B  ...   \n",
       "1   26                                  C7   234 EAST 4TH   STREET  ...   \n",
       "2   39                                  C7   197 EAST 3RD   STREET  ...   \n",
       "3   21                                  C4     154 EAST 7TH STREET  ...   \n",
       "4   55                                  C2  301 EAST 10TH   STREET  ...   \n",
       "\n",
       "  RESIDENTIAL UNITS  COMMERCIAL UNITS  TOTAL UNITS  LAND SQUARE FEET  \\\n",
       "0                 5                 0            5              1633   \n",
       "1                28                 3           31              4616   \n",
       "2                16                 1           17              2212   \n",
       "3                10                 0           10              2272   \n",
       "4                 6                 0            6              2369   \n",
       "\n",
       "   GROSS SQUARE FEET YEAR BUILT TAX CLASS AT TIME OF SALE  \\\n",
       "0               6440       1900                         2   \n",
       "1              18690       1900                         2   \n",
       "2               7803       1900                         2   \n",
       "3               6794       1913                         2   \n",
       "4               4615       1900                         2   \n",
       "\n",
       "   BUILDING CLASS AT TIME OF SALE  SALE PRICE            SALE DATE  \n",
       "0                              C2     6625000  2017-07-19 00:00:00  \n",
       "1                              C7           0  2016-12-14 00:00:00  \n",
       "2                              C7           0  2016-12-09 00:00:00  \n",
       "3                              C4     3936272  2016-09-23 00:00:00  \n",
       "4                              C2     8000000  2016-11-17 00:00:00  \n",
       "\n",
       "[5 rows x 22 columns]"
      ]
     },
     "execution_count": 12,
     "metadata": {},
     "output_type": "execute_result"
    }
   ],
   "source": [
    "pd_sales2 = pd_sales[(kon_year1 & kon_year2)]\n",
    "pd_sales2.head()"
   ]
  },
  {
   "cell_type": "code",
   "execution_count": 13,
   "metadata": {},
   "outputs": [
    {
     "data": {
      "text/plain": [
       "array([1900, 1913, 1920, 1910, 1925, 1902, 1928, 1930, 1935, 1937, 1915,\n",
       "       1950, 1929, 1901, 1940, 1989, 1965, 1951, 1905, 1917, 1911, 1983,\n",
       "       1926, 1963, 1960, 1939, 1938, 1927, 1909, 1958, 1904, 1907, 1987,\n",
       "       1931, 1984, 1948, 1918, 1973, 1922, 1932, 1980, 1908, 1953, 1906,\n",
       "       1946, 1921, 1954, 1924, 1990, 1991, 1988, 1957, 1986, 1966, 1998,\n",
       "       1923, 1969, 1968, 1934, 1956, 1982, 1914, 1903, 1967, 1912, 1964,\n",
       "       1955, 1961, 2000, 1959, 1962, 1945, 1972, 1976, 1916, 1970, 1941,\n",
       "       1952, 1985, 1981, 1947, 1975, 1974, 1994, 1996, 1997, 1949, 1999,\n",
       "       1979, 1971, 1977, 1942, 1978, 1919, 1936, 1993, 1995, 1933, 1992,\n",
       "       1943, 1944], dtype=int64)"
      ]
     },
     "execution_count": 13,
     "metadata": {},
     "output_type": "execute_result"
    }
   ],
   "source": [
    "#cek apakah tahunnya benar \n",
    "pd_sales2['YEAR BUILT'].unique()"
   ]
  },
  {
   "cell_type": "code",
   "execution_count": 14,
   "metadata": {},
   "outputs": [
    {
     "data": {
      "text/plain": [
       "0        False\n",
       "1        False\n",
       "2        False\n",
       "3        False\n",
       "4        False\n",
       "         ...  \n",
       "84543    False\n",
       "84544    False\n",
       "84545    False\n",
       "84546     True\n",
       "84547     True\n",
       "Name: YEAR BUILT, Length: 84548, dtype: bool"
      ]
     },
     "execution_count": 14,
     "metadata": {},
     "output_type": "execute_result"
    }
   ],
   "source": [
    "#untuk tahun setelah 2000\n",
    "kon_year3 = (pd_sales['YEAR BUILT'] > 2000)\n",
    "kon_year3"
   ]
  },
  {
   "cell_type": "code",
   "execution_count": 15,
   "metadata": {},
   "outputs": [
    {
     "data": {
      "text/html": [
       "<div>\n",
       "<style scoped>\n",
       "    .dataframe tbody tr th:only-of-type {\n",
       "        vertical-align: middle;\n",
       "    }\n",
       "\n",
       "    .dataframe tbody tr th {\n",
       "        vertical-align: top;\n",
       "    }\n",
       "\n",
       "    .dataframe thead th {\n",
       "        text-align: right;\n",
       "    }\n",
       "</style>\n",
       "<table border=\"1\" class=\"dataframe\">\n",
       "  <thead>\n",
       "    <tr style=\"text-align: right;\">\n",
       "      <th></th>\n",
       "      <th>Unnamed: 0</th>\n",
       "      <th>BOROUGH</th>\n",
       "      <th>NEIGHBORHOOD</th>\n",
       "      <th>BUILDING CLASS CATEGORY</th>\n",
       "      <th>TAX CLASS AT PRESENT</th>\n",
       "      <th>BLOCK</th>\n",
       "      <th>LOT</th>\n",
       "      <th>EASE-MENT</th>\n",
       "      <th>BUILDING CLASS AT PRESENT</th>\n",
       "      <th>ADDRESS</th>\n",
       "      <th>...</th>\n",
       "      <th>RESIDENTIAL UNITS</th>\n",
       "      <th>COMMERCIAL UNITS</th>\n",
       "      <th>TOTAL UNITS</th>\n",
       "      <th>LAND SQUARE FEET</th>\n",
       "      <th>GROSS SQUARE FEET</th>\n",
       "      <th>YEAR BUILT</th>\n",
       "      <th>TAX CLASS AT TIME OF SALE</th>\n",
       "      <th>BUILDING CLASS AT TIME OF SALE</th>\n",
       "      <th>SALE PRICE</th>\n",
       "      <th>SALE DATE</th>\n",
       "    </tr>\n",
       "  </thead>\n",
       "  <tbody>\n",
       "    <tr>\n",
       "      <th>11</th>\n",
       "      <td>15</td>\n",
       "      <td>1</td>\n",
       "      <td>ALPHABET CITY</td>\n",
       "      <td>08 RENTALS - ELEVATOR APARTMENTS</td>\n",
       "      <td>2B</td>\n",
       "      <td>400</td>\n",
       "      <td>21</td>\n",
       "      <td></td>\n",
       "      <td>D1</td>\n",
       "      <td>530-532 EAST 5TH STREET</td>\n",
       "      <td>...</td>\n",
       "      <td>10</td>\n",
       "      <td>0</td>\n",
       "      <td>10</td>\n",
       "      <td>3717</td>\n",
       "      <td>12350</td>\n",
       "      <td>2009</td>\n",
       "      <td>2</td>\n",
       "      <td>D1</td>\n",
       "      <td>10350000</td>\n",
       "      <td>2016-10-17 00:00:00</td>\n",
       "    </tr>\n",
       "    <tr>\n",
       "      <th>73</th>\n",
       "      <td>77</td>\n",
       "      <td>1</td>\n",
       "      <td>ALPHABET CITY</td>\n",
       "      <td>11A CONDO-RENTALS</td>\n",
       "      <td>2</td>\n",
       "      <td>385</td>\n",
       "      <td>1102</td>\n",
       "      <td></td>\n",
       "      <td>RR</td>\n",
       "      <td>254 EAST 2ND STREET</td>\n",
       "      <td>...</td>\n",
       "      <td>47</td>\n",
       "      <td>0</td>\n",
       "      <td>47</td>\n",
       "      <td>-</td>\n",
       "      <td>36472</td>\n",
       "      <td>2005</td>\n",
       "      <td>2</td>\n",
       "      <td>RR</td>\n",
       "      <td>28000000</td>\n",
       "      <td>2016-10-13 00:00:00</td>\n",
       "    </tr>\n",
       "    <tr>\n",
       "      <th>88</th>\n",
       "      <td>92</td>\n",
       "      <td>1</td>\n",
       "      <td>ALPHABET CITY</td>\n",
       "      <td>13 CONDOS - ELEVATOR APARTMENTS</td>\n",
       "      <td>2</td>\n",
       "      <td>378</td>\n",
       "      <td>1001</td>\n",
       "      <td></td>\n",
       "      <td>R4</td>\n",
       "      <td>399 EAST 8TH   STREET</td>\n",
       "      <td>...</td>\n",
       "      <td>1</td>\n",
       "      <td>0</td>\n",
       "      <td>1</td>\n",
       "      <td>-</td>\n",
       "      <td>-</td>\n",
       "      <td>2014</td>\n",
       "      <td>2</td>\n",
       "      <td>R4</td>\n",
       "      <td>0</td>\n",
       "      <td>2017-05-25 00:00:00</td>\n",
       "    </tr>\n",
       "    <tr>\n",
       "      <th>89</th>\n",
       "      <td>93</td>\n",
       "      <td>1</td>\n",
       "      <td>ALPHABET CITY</td>\n",
       "      <td>13 CONDOS - ELEVATOR APARTMENTS</td>\n",
       "      <td>2</td>\n",
       "      <td>378</td>\n",
       "      <td>1002</td>\n",
       "      <td></td>\n",
       "      <td>R4</td>\n",
       "      <td>399 EAST 8TH   STREET</td>\n",
       "      <td>...</td>\n",
       "      <td>1</td>\n",
       "      <td>0</td>\n",
       "      <td>1</td>\n",
       "      <td>-</td>\n",
       "      <td>-</td>\n",
       "      <td>2014</td>\n",
       "      <td>2</td>\n",
       "      <td>R4</td>\n",
       "      <td>0</td>\n",
       "      <td>2017-05-25 00:00:00</td>\n",
       "    </tr>\n",
       "    <tr>\n",
       "      <th>90</th>\n",
       "      <td>94</td>\n",
       "      <td>1</td>\n",
       "      <td>ALPHABET CITY</td>\n",
       "      <td>13 CONDOS - ELEVATOR APARTMENTS</td>\n",
       "      <td>2</td>\n",
       "      <td>378</td>\n",
       "      <td>1003</td>\n",
       "      <td></td>\n",
       "      <td>R4</td>\n",
       "      <td>399 EAST 8TH   STREET</td>\n",
       "      <td>...</td>\n",
       "      <td>1</td>\n",
       "      <td>0</td>\n",
       "      <td>1</td>\n",
       "      <td>-</td>\n",
       "      <td>-</td>\n",
       "      <td>2014</td>\n",
       "      <td>2</td>\n",
       "      <td>R4</td>\n",
       "      <td>0</td>\n",
       "      <td>2017-07-14 00:00:00</td>\n",
       "    </tr>\n",
       "  </tbody>\n",
       "</table>\n",
       "<p>5 rows × 22 columns</p>\n",
       "</div>"
      ],
      "text/plain": [
       "    Unnamed: 0  BOROUGH   NEIGHBORHOOD  \\\n",
       "11          15        1  ALPHABET CITY   \n",
       "73          77        1  ALPHABET CITY   \n",
       "88          92        1  ALPHABET CITY   \n",
       "89          93        1  ALPHABET CITY   \n",
       "90          94        1  ALPHABET CITY   \n",
       "\n",
       "                         BUILDING CLASS CATEGORY TAX CLASS AT PRESENT  BLOCK  \\\n",
       "11   08 RENTALS - ELEVATOR APARTMENTS                              2B    400   \n",
       "73  11A CONDO-RENTALS                                               2    385   \n",
       "88   13 CONDOS - ELEVATOR APARTMENTS                                2    378   \n",
       "89   13 CONDOS - ELEVATOR APARTMENTS                                2    378   \n",
       "90   13 CONDOS - ELEVATOR APARTMENTS                                2    378   \n",
       "\n",
       "     LOT EASE-MENT BUILDING CLASS AT PRESENT                  ADDRESS  ...  \\\n",
       "11    21                                  D1  530-532 EAST 5TH STREET  ...   \n",
       "73  1102                                  RR      254 EAST 2ND STREET  ...   \n",
       "88  1001                                  R4    399 EAST 8TH   STREET  ...   \n",
       "89  1002                                  R4    399 EAST 8TH   STREET  ...   \n",
       "90  1003                                  R4    399 EAST 8TH   STREET  ...   \n",
       "\n",
       "   RESIDENTIAL UNITS  COMMERCIAL UNITS  TOTAL UNITS  LAND SQUARE FEET  \\\n",
       "11                10                 0           10              3717   \n",
       "73                47                 0           47               -     \n",
       "88                 1                 0            1               -     \n",
       "89                 1                 0            1               -     \n",
       "90                 1                 0            1               -     \n",
       "\n",
       "    GROSS SQUARE FEET YEAR BUILT TAX CLASS AT TIME OF SALE  \\\n",
       "11              12350       2009                         2   \n",
       "73              36472       2005                         2   \n",
       "88                -         2014                         2   \n",
       "89                -         2014                         2   \n",
       "90                -         2014                         2   \n",
       "\n",
       "    BUILDING CLASS AT TIME OF SALE  SALE PRICE            SALE DATE  \n",
       "11                              D1    10350000  2016-10-17 00:00:00  \n",
       "73                              RR    28000000  2016-10-13 00:00:00  \n",
       "88                              R4           0  2017-05-25 00:00:00  \n",
       "89                              R4           0  2017-05-25 00:00:00  \n",
       "90                              R4           0  2017-07-14 00:00:00  \n",
       "\n",
       "[5 rows x 22 columns]"
      ]
     },
     "execution_count": 15,
     "metadata": {},
     "output_type": "execute_result"
    }
   ],
   "source": [
    "pd_sales3 = pd_sales[kon_year3]\n",
    "pd_sales3.head()"
   ]
  },
  {
   "cell_type": "code",
   "execution_count": 16,
   "metadata": {},
   "outputs": [
    {
     "data": {
      "text/plain": [
       "array([2009, 2005, 2014, 2008, 2013, 2003, 2006, 2007, 2004, 2012, 2011,\n",
       "       2001, 2015, 2010, 2016, 2017, 2002], dtype=int64)"
      ]
     },
     "execution_count": 16,
     "metadata": {},
     "output_type": "execute_result"
    }
   ],
   "source": [
    "#cek apakah tahunnya benar\n",
    "pd_sales3['YEAR BUILT'].unique()"
   ]
  },
  {
   "cell_type": "code",
   "execution_count": 17,
   "metadata": {},
   "outputs": [
    {
     "data": {
      "text/plain": [
       "array([10350000, 28000000,        0, ...,   772500, 11693337,    69300],\n",
       "      dtype=int64)"
      ]
     },
     "execution_count": 17,
     "metadata": {},
     "output_type": "execute_result"
    }
   ],
   "source": [
    "pd_sales3['SALE PRICE'].unique()"
   ]
  },
  {
   "cell_type": "code",
   "execution_count": 18,
   "metadata": {},
   "outputs": [
    {
     "data": {
      "text/plain": [
       "978128.0359717868"
      ]
     },
     "execution_count": 18,
     "metadata": {},
     "output_type": "execute_result"
    }
   ],
   "source": [
    "#cari mean median modus dari masing masing rentang tahun\n",
    "#untuk tahun 1900 - 2000\n",
    "pd_sales2['SALE PRICE'].mean()"
   ]
  },
  {
   "cell_type": "code",
   "execution_count": 19,
   "metadata": {},
   "outputs": [
    {
     "data": {
      "text/plain": [
       "389547.0"
      ]
     },
     "execution_count": 19,
     "metadata": {},
     "output_type": "execute_result"
    }
   ],
   "source": [
    "pd_sales2['SALE PRICE'].median()\n"
   ]
  },
  {
   "cell_type": "code",
   "execution_count": 20,
   "metadata": {},
   "outputs": [
    {
     "data": {
      "text/plain": [
       "0    0\n",
       "Name: SALE PRICE, dtype: int64"
      ]
     },
     "execution_count": 20,
     "metadata": {},
     "output_type": "execute_result"
    }
   ],
   "source": [
    "pd_sales2['SALE PRICE'].mode()"
   ]
  },
  {
   "cell_type": "code",
   "execution_count": 21,
   "metadata": {},
   "outputs": [
    {
     "data": {
      "text/plain": [
       "1450035.288530466"
      ]
     },
     "execution_count": 21,
     "metadata": {},
     "output_type": "execute_result"
    }
   ],
   "source": [
    "#untuk tahun setelah 2000\n",
    "pd_sales3['SALE PRICE'].mean()"
   ]
  },
  {
   "cell_type": "code",
   "execution_count": 22,
   "metadata": {},
   "outputs": [
    {
     "data": {
      "text/plain": [
       "623065.0"
      ]
     },
     "execution_count": 22,
     "metadata": {},
     "output_type": "execute_result"
    }
   ],
   "source": [
    "pd_sales3['SALE PRICE'].median()"
   ]
  },
  {
   "cell_type": "code",
   "execution_count": 23,
   "metadata": {},
   "outputs": [
    {
     "data": {
      "text/plain": [
       "0    0\n",
       "Name: SALE PRICE, dtype: int64"
      ]
     },
     "execution_count": 23,
     "metadata": {},
     "output_type": "execute_result"
    }
   ],
   "source": [
    "pd_sales3['SALE PRICE'].mode()"
   ]
  },
  {
   "cell_type": "markdown",
   "metadata": {},
   "source": [
    "dari mean, median, dan mode didapat\n",
    "PYTN_2_098_Athiyyah Nisrina Husna"
   ]
  },
  {
   "cell_type": "markdown",
   "metadata": {},
   "source": [
    "Akan dicari Range, Variance, dan  Standard Deviation dari keduanya"
   ]
  },
  {
   "cell_type": "code",
   "execution_count": 24,
   "metadata": {},
   "outputs": [
    {
     "data": {
      "text/plain": [
       "11516650.115237629"
      ]
     },
     "execution_count": 24,
     "metadata": {},
     "output_type": "execute_result"
    }
   ],
   "source": [
    "#Standar Deviasi\n",
    "pd_sales2['SALE PRICE'].std()"
   ]
  },
  {
   "cell_type": "code",
   "execution_count": 25,
   "metadata": {},
   "outputs": [
    {
     "data": {
      "text/plain": [
       "5286072.141200107"
      ]
     },
     "execution_count": 25,
     "metadata": {},
     "output_type": "execute_result"
    }
   ],
   "source": [
    "pd_sales3['SALE PRICE'].std()"
   ]
  },
  {
   "cell_type": "code",
   "execution_count": 26,
   "metadata": {},
   "outputs": [
    {
     "data": {
      "text/plain": [
       "132633229876802.88"
      ]
     },
     "execution_count": 26,
     "metadata": {},
     "output_type": "execute_result"
    }
   ],
   "source": [
    "#variansi\n",
    "pd_sales2['SALE PRICE'].var()"
   ]
  },
  {
   "cell_type": "code",
   "execution_count": 27,
   "metadata": {},
   "outputs": [
    {
     "data": {
      "text/plain": [
       "27942558681971.875"
      ]
     },
     "execution_count": 27,
     "metadata": {},
     "output_type": "execute_result"
    }
   ],
   "source": [
    "pd_sales3['SALE PRICE'].var()"
   ]
  },
  {
   "cell_type": "markdown",
   "metadata": {},
   "source": [
    "Bangunan yang dibangun pada tahun 1900 - 2000 dijual pada kisaran 11516650.115237629 sedangkan bangunan yang dibangun pada tahun setelah 2000 dijual pada kisaran 5286072.141200107"
   ]
  },
  {
   "cell_type": "code",
   "execution_count": 28,
   "metadata": {},
   "outputs": [
    {
     "name": "stdout",
     "output_type": "stream",
     "text": [
      "min 0\n",
      "max 2210000000\n",
      "range 2210000000\n"
     ]
    }
   ],
   "source": [
    "#Range\n",
    "print(\"min\", pd_sales2['SALE PRICE'].min())\n",
    "print(\"max\", pd_sales2['SALE PRICE'].max())\n",
    "print(\"range\", pd_sales2['SALE PRICE'].max() - pd_sales2['SALE PRICE'].min())"
   ]
  },
  {
   "cell_type": "code",
   "execution_count": 29,
   "metadata": {},
   "outputs": [
    {
     "name": "stdout",
     "output_type": "stream",
     "text": [
      "min 0\n",
      "max 203345000\n",
      "range 203345000\n"
     ]
    }
   ],
   "source": [
    "print(\"min\", pd_sales3['SALE PRICE'].min())\n",
    "print(\"max\", pd_sales3['SALE PRICE'].max())\n",
    "print(\"range\", pd_sales3['SALE PRICE'].max() - pd_sales3['SALE PRICE'].min())"
   ]
  },
  {
   "cell_type": "markdown",
   "metadata": {},
   "source": [
    "Karena ada bangunan yang dijual dengan harga 0 (transaksi balik nama) maka range nya menjadi harga paling tinggi"
   ]
  },
  {
   "cell_type": "markdown",
   "metadata": {},
   "source": [
    "### Berapa proporsi dan confidence interval dari bangunan yang dibangun setelah tahun 2000?"
   ]
  },
  {
   "cell_type": "code",
   "execution_count": 30,
   "metadata": {},
   "outputs": [
    {
     "name": "stdout",
     "output_type": "stream",
     "text": [
      "<class 'pandas.core.frame.DataFrame'>\n",
      "Index: 11718 entries, 11 to 84547\n",
      "Data columns (total 22 columns):\n",
      " #   Column                          Non-Null Count  Dtype \n",
      "---  ------                          --------------  ----- \n",
      " 0   Unnamed: 0                      11718 non-null  int64 \n",
      " 1   BOROUGH                         11718 non-null  int64 \n",
      " 2   NEIGHBORHOOD                    11718 non-null  object\n",
      " 3   BUILDING CLASS CATEGORY         11718 non-null  object\n",
      " 4   TAX CLASS AT PRESENT            11718 non-null  object\n",
      " 5   BLOCK                           11718 non-null  int64 \n",
      " 6   LOT                             11718 non-null  int64 \n",
      " 7   EASE-MENT                       11718 non-null  object\n",
      " 8   BUILDING CLASS AT PRESENT       11718 non-null  object\n",
      " 9   ADDRESS                         11718 non-null  object\n",
      " 10  APARTMENT NUMBER                11718 non-null  object\n",
      " 11  ZIP CODE                        11718 non-null  int64 \n",
      " 12  RESIDENTIAL UNITS               11718 non-null  int64 \n",
      " 13  COMMERCIAL UNITS                11718 non-null  int64 \n",
      " 14  TOTAL UNITS                     11718 non-null  int64 \n",
      " 15  LAND SQUARE FEET                11718 non-null  object\n",
      " 16  GROSS SQUARE FEET               11718 non-null  object\n",
      " 17  YEAR BUILT                      11718 non-null  int64 \n",
      " 18  TAX CLASS AT TIME OF SALE       11718 non-null  int64 \n",
      " 19  BUILDING CLASS AT TIME OF SALE  11718 non-null  object\n",
      " 20  SALE PRICE                      11718 non-null  int64 \n",
      " 21  SALE DATE                       11718 non-null  object\n",
      "dtypes: int64(11), object(11)\n",
      "memory usage: 2.1+ MB\n"
     ]
    }
   ],
   "source": [
    "#sudah ada dataframe nya yaitu pd_sales3\n",
    "#cari jumlah bangunannya\n",
    "pd_sales3.info()"
   ]
  },
  {
   "cell_type": "code",
   "execution_count": 31,
   "metadata": {},
   "outputs": [],
   "source": [
    "n_bangunanall = 84548 #dari pd_sales\n",
    "n_bangunan1 = 11718 #dari pd_sales3"
   ]
  },
  {
   "cell_type": "code",
   "execution_count": 32,
   "metadata": {},
   "outputs": [
    {
     "data": {
      "text/plain": [
       "0.1385958272224062"
      ]
     },
     "execution_count": 32,
     "metadata": {},
     "output_type": "execute_result"
    }
   ],
   "source": [
    "#cari proporsi\n",
    "p_bangunan1 = n_bangunan1 / n_bangunanall\n",
    "p_bangunan1"
   ]
  },
  {
   "cell_type": "markdown",
   "metadata": {},
   "source": [
    "dari dataset kita, 13% bangunan dibangun pada tahun setelah 2000"
   ]
  },
  {
   "cell_type": "code",
   "execution_count": 33,
   "metadata": {},
   "outputs": [
    {
     "name": "stdout",
     "output_type": "stream",
     "text": [
      "0.13626675495038024 0.14092489949443218\n"
     ]
    }
   ],
   "source": [
    "#confidence interval\n",
    "# z adalah angka konstan untuk menghitung margin error, dimana tingkat keyakinan 95% artinya z=1.96\n",
    "z = 1.96\n",
    "\n",
    "# margin error dihitung dengan z * akar(p * (1-p) / jumlah_data)\n",
    "margin_error = z * np.sqrt(p_bangunan1* (1-p_bangunan1) / n_bangunanall)\n",
    "\n",
    "# confidence interval adalah probabilitas +- margin error\n",
    "print(p_bangunan1 - margin_error, p_bangunan1 + margin_error)"
   ]
  },
  {
   "cell_type": "markdown",
   "metadata": {},
   "source": [
    "13% - 14% bangunan dibangun setelah tahun 2000"
   ]
  },
  {
   "cell_type": "markdown",
   "metadata": {},
   "source": [
    "### Apakah benar lebih banyak bangunan yang dibangun pada tahun lebih dari 2000 daripada bangunan yang dibangun pada tahun 1900 - 2000?"
   ]
  },
  {
   "cell_type": "markdown",
   "metadata": {},
   "source": [
    "H0 = p_bangunan1 < p_bangunan2\n",
    "\n",
    "H1 = p_bangunan1 > p_bangunan2"
   ]
  },
  {
   "cell_type": "code",
   "execution_count": 34,
   "metadata": {},
   "outputs": [
    {
     "name": "stdout",
     "output_type": "stream",
     "text": [
      "<class 'pandas.core.frame.DataFrame'>\n",
      "Index: 63800 entries, 0 to 84545\n",
      "Data columns (total 22 columns):\n",
      " #   Column                          Non-Null Count  Dtype \n",
      "---  ------                          --------------  ----- \n",
      " 0   Unnamed: 0                      63800 non-null  int64 \n",
      " 1   BOROUGH                         63800 non-null  int64 \n",
      " 2   NEIGHBORHOOD                    63800 non-null  object\n",
      " 3   BUILDING CLASS CATEGORY         63800 non-null  object\n",
      " 4   TAX CLASS AT PRESENT            63800 non-null  object\n",
      " 5   BLOCK                           63800 non-null  int64 \n",
      " 6   LOT                             63800 non-null  int64 \n",
      " 7   EASE-MENT                       63800 non-null  object\n",
      " 8   BUILDING CLASS AT PRESENT       63800 non-null  object\n",
      " 9   ADDRESS                         63800 non-null  object\n",
      " 10  APARTMENT NUMBER                63800 non-null  object\n",
      " 11  ZIP CODE                        63800 non-null  int64 \n",
      " 12  RESIDENTIAL UNITS               63800 non-null  int64 \n",
      " 13  COMMERCIAL UNITS                63800 non-null  int64 \n",
      " 14  TOTAL UNITS                     63800 non-null  int64 \n",
      " 15  LAND SQUARE FEET                63800 non-null  object\n",
      " 16  GROSS SQUARE FEET               63800 non-null  object\n",
      " 17  YEAR BUILT                      63800 non-null  int64 \n",
      " 18  TAX CLASS AT TIME OF SALE       63800 non-null  int64 \n",
      " 19  BUILDING CLASS AT TIME OF SALE  63800 non-null  object\n",
      " 20  SALE PRICE                      63800 non-null  int64 \n",
      " 21  SALE DATE                       63800 non-null  object\n",
      "dtypes: int64(11), object(11)\n",
      "memory usage: 11.2+ MB\n"
     ]
    }
   ],
   "source": [
    "#jumlah bangunan yang dibangun pada tahun 1900 - 2000\n",
    "pd_sales2.info()"
   ]
  },
  {
   "cell_type": "code",
   "execution_count": 35,
   "metadata": {},
   "outputs": [],
   "source": [
    "n_bangunan2 = 63800"
   ]
  },
  {
   "cell_type": "code",
   "execution_count": 36,
   "metadata": {},
   "outputs": [
    {
     "data": {
      "text/plain": [
       "0.7546009367459905"
      ]
     },
     "execution_count": 36,
     "metadata": {},
     "output_type": "execute_result"
    }
   ],
   "source": [
    "#cari proporsi\n",
    "p_bangunan2 = n_bangunan2 / n_bangunanall\n",
    "p_bangunan2"
   ]
  },
  {
   "cell_type": "code",
   "execution_count": 37,
   "metadata": {},
   "outputs": [
    {
     "data": {
      "text/plain": [
       "(416.2371732909096, 0.0)"
      ]
     },
     "execution_count": 37,
     "metadata": {},
     "output_type": "execute_result"
    }
   ],
   "source": [
    "nobs =  n_bangunanall #nobs adalah jumlah seluruh bangunan\n",
    "count = n_bangunan2 #jumlah bangunan yang dibangun pada tahun 1900 - 2000\n",
    "value = p_bangunan1 #proporsi bangunan yang dibangun pada tahun lebih dari 2000\n",
    "proportions_ztest(count, nobs, value, alternative='larger', prop_var=False)"
   ]
  },
  {
   "cell_type": "code",
   "execution_count": 38,
   "metadata": {},
   "outputs": [
    {
     "name": "stdout",
     "output_type": "stream",
     "text": [
      "p-value: 0.0\n",
      "REJECT null hypothesis\n"
     ]
    }
   ],
   "source": [
    "zstat, pvalue = proportions_ztest(count, nobs, value, alternative='larger', prop_var=False)\n",
    "\n",
    "print(\"p-value:\", pvalue)\n",
    "\n",
    "# kita bandingkan dengan alpha\n",
    "alpha = 0.05\n",
    "\n",
    "if (pvalue < alpha):\n",
    "  print(\"REJECT null hypothesis\")\n",
    "else:\n",
    "  print(\"Fail to Reject null hypothesis\")"
   ]
  },
  {
   "cell_type": "markdown",
   "metadata": {},
   "source": [
    "Hipotesis ditolak"
   ]
  },
  {
   "cell_type": "markdown",
   "metadata": {},
   "source": [
    "**OVERALL ANALYSIS**\n",
    "\n",
    "Terdapat perbedaan harga pada bangunan yang dibangun pada tahun 1900 - 2000 dengan bangunan yang dibangun pada tahun setelah 2000, dapat dilihat dari rata - rata, nilai tengah, range harga dan kisaran harganya. Hipotesis bahwa lebih banyak bangunan yang dibangun pada tahun lebih dari 2000 daripada bangunan yang dibangun pada tahun 1900 - 2000 adalah tidak benar.\n"
   ]
  }
 ],
 "metadata": {
  "kernelspec": {
   "display_name": "Python 3",
   "language": "python",
   "name": "python3"
  },
  "language_info": {
   "codemirror_mode": {
    "name": "ipython",
    "version": 3
   },
   "file_extension": ".py",
   "mimetype": "text/x-python",
   "name": "python",
   "nbconvert_exporter": "python",
   "pygments_lexer": "ipython3",
   "version": "3.11.6"
  }
 },
 "nbformat": 4,
 "nbformat_minor": 2
}
